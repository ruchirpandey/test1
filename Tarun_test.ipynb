{
  "nbformat": 4,
  "nbformat_minor": 0,
  "metadata": {
    "colab": {
      "name": "Tarun_test.ipynb",
      "version": "0.3.2",
      "provenance": [],
      "include_colab_link": true
    },
    "language_info": {
      "codemirror_mode": {
        "name": "ipython",
        "version": 2
      },
      "file_extension": ".py",
      "mimetype": "text/x-python",
      "name": "python",
      "nbconvert_exporter": "python",
      "pygments_lexer": "ipython2",
      "version": "2.7.15"
    },
    "kernelspec": {
      "display_name": "Python 2",
      "language": "python",
      "name": "python2"
    }
  },
  "cells": [
    {
      "cell_type": "markdown",
      "metadata": {
        "id": "view-in-github",
        "colab_type": "text"
      },
      "source": [
        "<a href=\"https://colab.research.google.com/github/ruchirpandey/test1/blob/master/Tarun_test.ipynb\" target=\"_parent\"><img src=\"https://colab.research.google.com/assets/colab-badge.svg\" alt=\"Open In Colab\"/></a>"
      ]
    },
    {
      "metadata": {
        "id": "-3bLqNu43xU_",
        "colab_type": "code",
        "colab": {
          "base_uri": "https://localhost:8080/",
          "height": 491
        },
        "outputId": "f87c2df9-d0db-4344-94d7-988584c9239e"
      },
      "cell_type": "code",
      "source": [
        "def argument_test_natural_number(f):\n",
        "    def tarun(xy):\n",
        "        if type(xy) == int and xy > 0:\n",
        "            return f(xy)\n",
        "        else:\n",
        "            raise Exception(\"Argument is not an integer\")\n",
        "    return tarun\n",
        "    \n",
        "@argument_test_natural_number\n",
        "def factorial(n):\n",
        "    if n == 1:\n",
        "        return 1\n",
        "    else:\n",
        "        return n * factorial(n-1)\n",
        "\n",
        "for i in range(1,10):\n",
        "    print(i, factorial(i))\n",
        "\n",
        "print(factorial(-1))"
      ],
      "execution_count": 1,
      "outputs": [
        {
          "output_type": "stream",
          "text": [
            "(1, 1)\n",
            "(2, 2)\n",
            "(3, 6)\n",
            "(4, 24)\n",
            "(5, 120)\n",
            "(6, 720)\n",
            "(7, 5040)\n",
            "(8, 40320)\n",
            "(9, 362880)\n"
          ],
          "name": "stdout"
        },
        {
          "output_type": "error",
          "ename": "Exception",
          "evalue": "ignored",
          "traceback": [
            "\u001b[0;31m\u001b[0m",
            "\u001b[0;31mException\u001b[0mTraceback (most recent call last)",
            "\u001b[0;32m<ipython-input-1-1c6c9c7d724e>\u001b[0m in \u001b[0;36m<module>\u001b[0;34m()\u001b[0m\n\u001b[1;32m     17\u001b[0m     \u001b[0;32mprint\u001b[0m\u001b[0;34m(\u001b[0m\u001b[0mi\u001b[0m\u001b[0;34m,\u001b[0m \u001b[0mfactorial\u001b[0m\u001b[0;34m(\u001b[0m\u001b[0mi\u001b[0m\u001b[0;34m)\u001b[0m\u001b[0;34m)\u001b[0m\u001b[0;34m\u001b[0m\u001b[0m\n\u001b[1;32m     18\u001b[0m \u001b[0;34m\u001b[0m\u001b[0m\n\u001b[0;32m---> 19\u001b[0;31m \u001b[0;32mprint\u001b[0m\u001b[0;34m(\u001b[0m\u001b[0mfactorial\u001b[0m\u001b[0;34m(\u001b[0m\u001b[0;34m-\u001b[0m\u001b[0;36m1\u001b[0m\u001b[0;34m)\u001b[0m\u001b[0;34m)\u001b[0m\u001b[0;34m\u001b[0m\u001b[0m\n\u001b[0m",
            "\u001b[0;32m<ipython-input-1-1c6c9c7d724e>\u001b[0m in \u001b[0;36mtarun\u001b[0;34m(xy)\u001b[0m\n\u001b[1;32m      4\u001b[0m             \u001b[0;32mreturn\u001b[0m \u001b[0mf\u001b[0m\u001b[0;34m(\u001b[0m\u001b[0mxy\u001b[0m\u001b[0;34m)\u001b[0m\u001b[0;34m\u001b[0m\u001b[0m\n\u001b[1;32m      5\u001b[0m         \u001b[0;32melse\u001b[0m\u001b[0;34m:\u001b[0m\u001b[0;34m\u001b[0m\u001b[0m\n\u001b[0;32m----> 6\u001b[0;31m             \u001b[0;32mraise\u001b[0m \u001b[0mException\u001b[0m\u001b[0;34m(\u001b[0m\u001b[0;34m\"Argument is not an integer\"\u001b[0m\u001b[0;34m)\u001b[0m\u001b[0;34m\u001b[0m\u001b[0m\n\u001b[0m\u001b[1;32m      7\u001b[0m     \u001b[0;32mreturn\u001b[0m \u001b[0mtarun\u001b[0m\u001b[0;34m\u001b[0m\u001b[0m\n\u001b[1;32m      8\u001b[0m \u001b[0;34m\u001b[0m\u001b[0m\n",
            "\u001b[0;31mException\u001b[0m: Argument is not an integer"
          ]
        }
      ]
    },
    {
      "metadata": {
        "id": "gxHysXKe3xVR",
        "colab_type": "code",
        "colab": {},
        "outputId": "ac79b09d-113e-44f3-bdbb-9a0f54fefdb7"
      },
      "cell_type": "code",
      "source": [
        "def factorial(k,l=3):\n",
        "    print(k,\"-\",l)\n",
        "    if type(k) == int and k > 0:\n",
        "       if n == 1:\n",
        "          return 1\n",
        "       else:\n",
        "          return k * factorial(k-1)\n",
        "    else:\n",
        "       print(\"incorrect input\") \n",
        "    \n",
        "print(factorial(-6,7))"
      ],
      "execution_count": 0,
      "outputs": [
        {
          "output_type": "stream",
          "text": [
            "(-6, '-', 7)\n",
            "incorrect input\n",
            "None\n"
          ],
          "name": "stdout"
        }
      ]
    },
    {
      "metadata": {
        "id": "pxAenS4R3xVc",
        "colab_type": "code",
        "colab": {},
        "outputId": "865bc7b0-0f44-4637-e153-94b33c50e623"
      },
      "cell_type": "code",
      "source": [
        "def call_counter(func):\n",
        "    def helper(*args, **kwargs):\n",
        "        helper.calls += 1\n",
        "        return func(*args, **kwargs)\n",
        "    helper.calls = 0\n",
        "\n",
        "    return helper\n",
        "\n",
        "@call_counter\n",
        "def succ(x):\n",
        "    return x + 1\n",
        "\n",
        "@call_counter\n",
        "def mul1(x, y=1):\n",
        "    return x*y + 1\n",
        "\n",
        "@call_counter\n",
        "def tarun(x, z,l,y):\n",
        "    return x*y + z + l +2\n",
        "\n",
        "print(tarun.calls)\n",
        "print(succ.calls)\n",
        "for i in range(10):\n",
        "    succ(i)\n",
        "mul1(3, 4)\n",
        "mul1(4)\n",
        "mul1(y=3, x=2)\n",
        "    \n",
        "print(succ.calls)\n",
        "print(mul1.calls)\n",
        "print(\"-------------------\")\n",
        "for j in range(5):\n",
        "    print(tarun(j,j*2,j+5,j*j))\n",
        "print(\"count is -\",tarun.calls)    "
      ],
      "execution_count": 0,
      "outputs": [
        {
          "output_type": "stream",
          "text": [
            "0\n",
            "0\n",
            "10\n",
            "3\n",
            "-------------------\n",
            "7\n",
            "11\n",
            "21\n",
            "43\n",
            "83\n",
            "('count is -', 5)\n"
          ],
          "name": "stdout"
        }
      ]
    },
    {
      "metadata": {
        "id": "nrZvMZ0K3xVq",
        "colab_type": "code",
        "colab": {},
        "outputId": "a7fc36d1-25a8-40b8-88fe-ab93dfd08b0b"
      },
      "cell_type": "code",
      "source": [
        "range(10)"
      ],
      "execution_count": 0,
      "outputs": [
        {
          "output_type": "execute_result",
          "data": {
            "text/plain": [
              "[0, 1, 2, 3, 4, 5, 6, 7, 8, 9]"
            ]
          },
          "metadata": {
            "tags": []
          },
          "execution_count": 13
        }
      ]
    },
    {
      "metadata": {
        "id": "9YSzoWpn3xVy",
        "colab_type": "code",
        "colab": {},
        "outputId": "881a6db4-cc61-4c06-ac63-fd396f97fa3c"
      },
      "cell_type": "code",
      "source": [
        "import pandas"
      ],
      "execution_count": 0,
      "outputs": [
        {
          "output_type": "error",
          "ename": "ImportError",
          "evalue": "No module named pandas",
          "traceback": [
            "\u001b[1;31m---------------------------------------------------------------------------\u001b[0m",
            "\u001b[1;31mImportError\u001b[0m                               Traceback (most recent call last)",
            "\u001b[1;32m<ipython-input-18-38d4b0363d82>\u001b[0m in \u001b[0;36m<module>\u001b[1;34m()\u001b[0m\n\u001b[1;32m----> 1\u001b[1;33m \u001b[1;32mimport\u001b[0m \u001b[0mpandas\u001b[0m\u001b[1;33m\u001b[0m\u001b[0m\n\u001b[0m",
            "\u001b[1;31mImportError\u001b[0m: No module named pandas"
          ]
        }
      ]
    },
    {
      "metadata": {
        "id": "R2aQkBCp3xV6",
        "colab_type": "code",
        "colab": {}
      },
      "cell_type": "code",
      "source": [
        ""
      ],
      "execution_count": 0,
      "outputs": []
    }
  ]
}